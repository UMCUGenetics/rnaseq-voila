{
 "cells": [
  {
   "cell_type": "code",
   "execution_count": 1,
   "metadata": {},
   "outputs": [],
   "source": [
    "from __future__ import print_function\n",
    "from ipywidgets import interact, interactive, fixed, interact_manual, Dropdown, Button\n",
    "from ipywidgets import Output, HBox, Label, Text, RadioButtons, HTML, FileUpload\n",
    "\n",
    "import ipywidgets as widgets\n",
    "\n",
    "import warnings\n",
    "warnings.simplefilter(action='ignore', category=FutureWarning)\n",
    "\n",
    "import pandas as pd\n",
    "import numpy as np\n",
    "\n",
    "import os\n",
    "import re\n",
    "\n",
    "from IPython.display import clear_output\n",
    "from IPython.display import display, HTML\n",
    "from IPython.display import Image\n",
    "\n",
    "import random\n",
    "import base64\n",
    "\n",
    "from sklearn.decomposition import PCA\n",
    "import plotly.express as px\n",
    "from plotly.subplots import make_subplots\n",
    "import plotly.figure_factory as ff\n",
    "import plotly.graph_objects as go\n",
    "\n",
    "from dominate import tags\n",
    "\n",
    "import codecs\n",
    "import io"
   ]
  },
  {
   "cell_type": "code",
   "execution_count": null,
   "metadata": {},
   "outputs": [],
   "source": [
    "# import omim\n",
    "# from omim import util\n",
    "# from omim.db import Manager, OMIM_DATA\n",
    "\n",
    "\n",
    "# manager = Manager(dbfile=omim.DEFAULT_DB)\n",
    "\n",
    "# # show columns\n",
    "# print(util.get_columns_table())\n",
    "\n",
    "\n",
    "# # show stats\n",
    "# generated, table = util.get_stats_table(manager)\n",
    "# print(generated)\n",
    "# print(table)\n",
    "\n",
    "# # count the database\n",
    "# manager.query(OMIM_DATA).count()\n",
    "\n",
    "# # query with key-value\n",
    "# res = manager.query(OMIM_DATA, 'prefix', '*')\n",
    "# res = manager.query(OMIM_DATA, 'mim_number', '600799')\n",
    "# res = manager.query(OMIM_DATA, 'hgnc_gene_symbol', 'BMPR2')\n",
    "# res = manager.query(OMIM_DATA, 'geneMap', '%Pulmonary hypertension%')  # fuzzy query\n",
    "\n",
    "# # fetch query result\n",
    "# item = res.first()\n",
    "# items = res.all()\n",
    "\n",
    "# # content of result\n",
    "# print(item.mim_number, item.title)\n",
    "# print(item.as_dict)"
   ]
  },
  {
   "cell_type": "code",
   "execution_count": 2,
   "metadata": {},
   "outputs": [],
   "source": [
    "def HTML_with_style(df, style=None, random_id=None):\n",
    "    from IPython.display import HTML\n",
    "    import numpy as np\n",
    "    import re\n",
    "\n",
    "    df_html = df.to_html()\n",
    "\n",
    "    if random_id is None:\n",
    "        random_id = 'id%d' % np.random.choice(np.arange(1000000))\n",
    "\n",
    "    if style is None:\n",
    "        style = \"\"\"\n",
    "        <style>\n",
    "            table#{random_id} {{color: black}}\n",
    "        </style>\n",
    "        \"\"\".format(random_id=random_id)\n",
    "    else:\n",
    "        new_style = []\n",
    "        s = re.sub(r'</?style>', '', style).strip()\n",
    "        for line in s.split('\\n'):\n",
    "                line = line.strip()\n",
    "                if not re.match(r'^table', line):\n",
    "                    line = re.sub(r'^', 'table ', line)\n",
    "                new_style.append(line)\n",
    "        new_style = ['<style>'] + new_style + ['</style>']\n",
    "\n",
    "        style = re.sub(r'table(#\\S+)?', 'table#%s' % random_id, '\\n'.join(new_style))\n",
    "\n",
    "    df_html = re.sub(r'<table', r'<table id=%s ' % random_id, df_html)\n",
    "\n",
    "    return HTML(style + df_html)"
   ]
  },
  {
   "cell_type": "markdown",
   "metadata": {},
   "source": [
    "# Transcriptome-wide outlier detection and filtering application\n",
    "\n",
    "### ! Beware: Saving tables will not work when using Internet Explorer !\n",
    "\n",
    "based on hisat2-count files with (hisat2) reference file and OUTRIDER normalization \n",
    "(ref: Brechtmann <em> et al.</em> 2018 **Am J Hum Genet**) :\n",
    "\n",
    "| Fragments | Ref |\n",
    "| :- | :- |\n",
    "| Genes | GCF_000001405.25_GRCh37.p13_genomic.chr.genes.bed |\n",
    "| Exons | GCF_000001405.25_GRCh37.p13_genomic.chr.transcripts.bed |\n",
    "| Introns | GCF_000001405.25_GRCh37.p13_genomic.chr.introns.bed |\n",
    "\n",
    "This is the demo version of the app and only a part of the data are used. Therefore, the results can deviate from those reported in the manuscript\n"
   ]
  },
  {
   "cell_type": "code",
   "execution_count": 3,
   "metadata": {},
   "outputs": [
    {
     "data": {
      "application/vnd.jupyter.widget-view+json": {
       "model_id": "cad0252c97854b88824f71ac4991b5e6",
       "version_major": 2,
       "version_minor": 0
      },
      "text/plain": [
       "interactive(children=(Text(value='password', description='password'), Output()), _dom_classes=('widget-interac…"
      ]
     },
     "metadata": {},
     "output_type": "display_data"
    }
   ],
   "source": [
    "def set_password(password):\n",
    "    global pwd, version\n",
    "    pwd = password\n",
    "    version = \"v02.2_010222\"\n",
    "    \n",
    "interact(set_password, password='password');"
   ]
  },
  {
   "cell_type": "code",
   "execution_count": 4,
   "metadata": {},
   "outputs": [],
   "source": [
    "def check_password():\n",
    "    if( pwd == 'password'):\n",
    "        return True\n",
    "    else:\n",
    "        raise ValueError('Password incorrect')"
   ]
  },
  {
   "cell_type": "markdown",
   "metadata": {},
   "source": [
    "## Load data"
   ]
  },
  {
   "cell_type": "markdown",
   "metadata": {},
   "source": [
    "### Select experiments and species"
   ]
  },
  {
   "cell_type": "code",
   "execution_count": 5,
   "metadata": {},
   "outputs": [],
   "source": [
    "# make metadata filelist\n",
    "meta_path = './metadata/'\n",
    "meta1 = 'dekker_et_al_rnaseq_metadata.csv'\n",
    "meta2 = 'umcu_rnaseq_metadata.csv'\n",
    "metalist = [meta2]"
   ]
  },
  {
   "cell_type": "code",
   "execution_count": 6,
   "metadata": {},
   "outputs": [
    {
     "data": {
      "application/vnd.jupyter.widget-view+json": {
       "model_id": "aef4205237a64716874c60bf76ae4acf",
       "version_major": 2,
       "version_minor": 0
      },
      "text/plain": [
       "interactive(children=(Dropdown(description='meta', options=('umcu_rnaseq_metadata.csv',), value='umcu_rnaseq_m…"
      ]
     },
     "metadata": {},
     "output_type": "display_data"
    },
    {
     "data": {
      "text/plain": [
       "<function __main__.metadata(meta, species, fragment)>"
      ]
     },
     "execution_count": 6,
     "metadata": {},
     "output_type": "execute_result"
    }
   ],
   "source": [
    "# open metadata file; read metadata file and pull sample_ID's. \n",
    "# Load data for chosen sample.\n",
    "# 2 dataframes, also one for exon ranking plot (load data for chosen geneID and all samples). \n",
    "\n",
    "def metadata (meta, species, fragment):\n",
    "    global tissue, metadata_species, experiment, fragments, metadata_sample\n",
    "    \n",
    "    tissue = species\n",
    "    fragments = fragment\n",
    "    \n",
    "    check_password()\n",
    "    \n",
    "    if meta != '':\n",
    "        path = './metadata/' + meta\n",
    "        metadata = pd.read_csv(path, sep = ';')\n",
    "        \n",
    "        if species == 'fib_untreated':\n",
    "            metadata_species = metadata[(metadata['drop']!=\"y\") & (metadata['treatment'] == 'untreated') & (metadata['species'] == 'fib')]\n",
    "            \n",
    "        if species == 'fib_CHX':\n",
    "            metadata_species = metadata[(metadata['drop']!=\"y\") & (metadata['treatment'] == 'CHX') & (metadata['species'] == 'fib')]\n",
    "            \n",
    "#        experiment = 'Dekker_et_al_rnaseq'\n",
    "        experiment = 'umcu_rnaseq'\n",
    "            \n",
    "        \n",
    "interact_manual(metadata, meta = list(metalist),\n",
    "               species = ['fib_untreated','fib_CHX'],\n",
    "               fragment = ['genes','exons','introns'])"
   ]
  },
  {
   "cell_type": "code",
   "execution_count": 7,
   "metadata": {},
   "outputs": [],
   "source": [
    "# list of experiments\n",
    "GS_exp = 'umcu_rnaseq'\n",
    "#GS_exp = 'Dekker_et_al_rnaseq'\n",
    "    \n"
   ]
  },
  {
   "cell_type": "markdown",
   "metadata": {},
   "source": [
    "### Select sample\n",
    "\n",
    "First you need to select the option 'samples' before samplelist gets updated. If you choose new species push \"run interact\" to refresh sample list."
   ]
  },
  {
   "cell_type": "code",
   "execution_count": 8,
   "metadata": {},
   "outputs": [
    {
     "data": {
      "application/vnd.jupyter.widget-view+json": {
       "model_id": "ede901a8405d406391b9d0976aeb5520",
       "version_major": 2,
       "version_minor": 0
      },
      "text/plain": [
       "interactive(children=(Button(description='Run Interact', style=ButtonStyle()), Output()), _dom_classes=('widge…"
      ]
     },
     "metadata": {},
     "output_type": "display_data"
    },
    {
     "data": {
      "application/vnd.jupyter.widget-view+json": {
       "model_id": "f27a57e1ae8b4e47ba65928d3a7f72a5",
       "version_major": 2,
       "version_minor": 0
      },
      "text/plain": [
       "interactive(children=(Dropdown(description='ID', options=('refresh', 'samples'), value=None), Output()), _dom_…"
      ]
     },
     "metadata": {},
     "output_type": "display_data"
    }
   ],
   "source": [
    "ID_dropdown = Dropdown()\n",
    "def update_options(*args):\n",
    "    try:\n",
    "        if( 'metadata_species' in globals() and 'GS_exp' in globals() ):\n",
    "            if (tissue == 'AFC_0'):\n",
    "                sample_IDs = metadata_sample.sort_values('sample_id', ascending=False)['sample_id'].unique().tolist()\n",
    "                #ID_dropdown.options = sample_IDs\n",
    "            elif (tissue == 'AFC_CHX'):\n",
    "                sample_IDs = metadata_sample.sort_values('sample_id', ascending=False)['sample_id'].unique().tolist()\n",
    "                #ID_dropdown.options = sample_IDs\n",
    "            else:\n",
    "                if (GS_exp != 'all'):\n",
    "                    metadata_GSexp = metadata_species[metadata_species['experiment_GS'] == GS_exp]\n",
    "                    sample_IDs = metadata_GSexp.sort_values('sample_id', ascending=False)['sample_id'].unique().tolist()\n",
    "                else:\n",
    "                    sample_IDs = metadata_species.sort_values('sample_id', ascending=False)['sample_id'].unique().tolist()\n",
    "                    \n",
    "            ID_dropdown.options = sample_IDs\n",
    "        else:\n",
    "            ID_dropdown.options = ['refresh','samples']\n",
    "        \n",
    "    except:\n",
    "        pass\n",
    "        \n",
    "ID_dropdown.observe(update_options) \n",
    "\n",
    "interact_manual(update_options)\n",
    "@interact (ID = ID_dropdown)\n",
    "def set_current_ID( ID):\n",
    "    global current_sample_ID\n",
    "    current_sample_ID = ID\n",
    "    "
   ]
  },
  {
   "cell_type": "markdown",
   "metadata": {},
   "source": [
    "### Show PCA plot\n",
    "\n",
    "Select dataset which you want to use.\n",
    "Shown countdata of previous selected species before OUTRIDER normalisation"
   ]
  },
  {
   "cell_type": "code",
   "execution_count": 57,
   "metadata": {},
   "outputs": [
    {
     "data": {
      "application/vnd.jupyter.widget-view+json": {
       "model_id": "30cc5cbf8dff407a9ff197711fd61433",
       "version_major": 2,
       "version_minor": 0
      },
      "text/plain": [
       "interactive(children=(Button(description='Run Interact', style=ButtonStyle()), Output()), _dom_classes=('widge…"
      ]
     },
     "metadata": {},
     "output_type": "display_data"
    },
    {
     "data": {
      "text/plain": [
       "<function __main__.PCAplot()>"
      ]
     },
     "execution_count": 57,
     "metadata": {},
     "output_type": "execute_result"
    }
   ],
   "source": [
    "# PCA plot from countdata\n",
    "def PCAplot ():\n",
    "    count_path = \"./countdata/\"\n",
    "#    file = 'dekker_et_al_rnaseq_' + fragments + '_counts.tsv'\n",
    "    file = 'umcu_rnaseq_' + fragments + '_counts.tsv'\n",
    "    if( 'experiment' in globals() and 'fragments' in globals()):\n",
    "    \n",
    "        f = pd.read_csv(count_path+file, sep = '\\t').set_index('Unnamed: 0')\n",
    "\n",
    "        # only samples filtered in metadata\n",
    "#        print(metadata_species['sample_id'])\n",
    "#        print(f.columns)\n",
    "#        f_res = f[f.columns & metadata_species['sample_id']]\n",
    "        f_res = f #[metadata_species['sample_id']]\n",
    "\n",
    "        pca = PCA(n_components=5)\n",
    "        pca.fit(f_res.T)\n",
    "        data_pca = pca.transform(f_res.T)\n",
    "        data_pca = pd.DataFrame( data_pca , index = f_res.T.index )\n",
    "\n",
    "        # Formatting for PCA\n",
    "        data_pca.reset_index(inplace=True)\n",
    "\n",
    "#        print(data_pca)\n",
    "#        print(type(metadata_species['sample_id']))\n",
    "\n",
    "        # Percentage of variance\n",
    "        variance = pca.explained_variance_ratio_ \n",
    "\n",
    "        red = data_pca.loc[data_pca['index'] == current_sample_ID]\n",
    "        blue = data_pca[data_pca['index'].isin(metadata_species['sample_id'])]\n",
    "\n",
    "        # figure\n",
    "        fig = make_subplots(rows=1, cols=1)\n",
    "        \n",
    "        # all data\n",
    "        species = ['fib_untreated','fib_CHX']\n",
    "        not_selected_tissue = species[0] if tissue==species[1] else species[1]\n",
    "        \n",
    "        fig.add_scatter(x=data_pca[0], y=data_pca[1], mode=\"markers\",\n",
    "                        marker=dict(color=\"Grey\"),\n",
    "                        row=1, col=1, text=data_pca['index'], name=not_selected_tissue)\n",
    "        fig.add_scatter(x=blue[0], y=blue[1], mode=\"markers\",\n",
    "                        marker=dict(color=\"Blue\"),\n",
    "                        row=1, col=1, text=blue['index'], name=tissue)\n",
    "        # sample data       \n",
    "        fig.add_scatter(x=red[0], y=red[1],\n",
    "                    marker=dict(color=\"Red\"),\n",
    "                    row=1, col=1, text=current_sample_ID, name=current_sample_ID)\n",
    "        \n",
    "        fig.update_traces(hoverinfo = 'text', selector = dict(type='scatter'), \n",
    "                           hoverlabel = dict(namelength = -1))\n",
    "        fig.update_layout(title= \"PCA plot before normalisation: \"+current_sample_ID, title_x = 0.5, height=550, width = 550, \n",
    "                          showlegend = True, template = \"simple_white\")\n",
    "        fig.update_xaxes(title_text=\"PC 1 ({}% variance) \".format(int(variance[0] *100)), showgrid=False)\n",
    "        fig.update_yaxes(title_text=\"PC 2 ({}% variance) \".format(int(variance[1] *100)), showgrid=False)\n",
    "\n",
    "        fig.show()\n",
    "    \n",
    "interact_manual(PCAplot)"
   ]
  },
  {
   "cell_type": "markdown",
   "metadata": {},
   "source": [
    "### Select results-file \n",
    "\n",
    "Loading the data might take a while (even up to 5 minutes)."
   ]
  },
  {
   "cell_type": "code",
   "execution_count": 29,
   "metadata": {},
   "outputs": [
    {
     "name": "stdout",
     "output_type": "stream",
     "text": [
      "2023-803Cntrl.bam\n",
      "fib_untreated\n",
      "genes\n"
     ]
    },
    {
     "data": {
      "application/vnd.jupyter.widget-view+json": {
       "model_id": "09b635c6e51248d1a145b375b14f7410",
       "version_major": 2,
       "version_minor": 0
      },
      "text/plain": [
       "interactive(children=(Button(description='Run Interact', style=ButtonStyle()), Output()), _dom_classes=('widge…"
      ]
     },
     "metadata": {},
     "output_type": "display_data"
    },
    {
     "data": {
      "text/plain": [
       "<function __main__.path_results()>"
      ]
     },
     "execution_count": 29,
     "metadata": {},
     "output_type": "execute_result"
    }
   ],
   "source": [
    "# load outrider resultfile\n",
    "def path_results ():\n",
    "    global stats, filename, path, resultfile\n",
    "    \n",
    "    main_path = './outrider/'\n",
    "#    file = 'dekker_et_al_rnaseq_' + tissue + '_res_outrider_' + fragments + '_counts.tsv.gz'\n",
    "#    file = 'umcu_rnaseq_' + tissue + '_res_outrider_' + fragments + '_ref' + current_sample_ID + '.tsv.gz'\n",
    "    file = 'umcu_rnaseq_' + tissue + '_res_outrider_' + fragments + '_counts.tsv.gz'\n",
    "    filename = file.split(\".tsv.gz\")[0]\n",
    "    resultfile = filename\n",
    "    \n",
    "    path = main_path + file\n",
    "    filename = path\n",
    "\n",
    "    stats = pd.read_csv(path, compression='gzip')\n",
    "    stats = stats.loc[stats['sampleID'] == current_sample_ID]\n",
    "print(current_sample_ID)\n",
    "#print(stats)\n",
    "\n",
    "interact_manual(path_results)"
   ]
  },
  {
   "cell_type": "code",
   "execution_count": 30,
   "metadata": {},
   "outputs": [],
   "source": [
    "# list of genepanels\n",
    "path_to_gene_panels= './genepanels/'\n",
    "\n",
    "gene_panel_with_genes = {}\n",
    "for gene_panel in os.listdir(path_to_gene_panels):\n",
    "    if( gene_panel.endswith('.csv')):\n",
    "        try:\n",
    "            df = pd.read_csv(path_to_gene_panels+ gene_panel ,header = None)\n",
    "            df = df[0].tolist()\n",
    "            gene_panel_with_genes[ gene_panel.replace('.csv','')] = df\n",
    "        except:\n",
    "            pass\n",
    "\n",
    "style = {'description_width': 'initial'}"
   ]
  },
  {
   "cell_type": "markdown",
   "metadata": {},
   "source": [
    "## Filter on Z-scores and p-value, HPO terms, ROH, genomic position"
   ]
  },
  {
   "cell_type": "code",
   "execution_count": null,
   "metadata": {},
   "outputs": [
    {
     "ename": "",
     "evalue": "",
     "output_type": "error",
     "traceback": [
      "\u001b[1;31mRunning cells with 'Python 3.7.8' requires the ipykernel package.\n",
      "\u001b[1;31mRun the following command to install 'ipykernel' into the Python environment. \n",
      "\u001b[1;31mCommand: '/usr/local/bin/python3 -m pip install ipykernel -U --user --force-reinstall'"
     ]
    }
   ],
   "source": [
    "# filtering of zScores\n",
    "ascending_sort_dict = {'zScore_abs':['zScore_abs',False], \n",
    "                       'pValue':['pValue',True], \n",
    "                       'meanCorrected':['meanCorrected',True], \n",
    "                       'geneID':['geneID',True], \n",
    "                       'gene':['gene',True],\n",
    "                       'zScore_neg':['zScore',True], \n",
    "                       'zScore_pos':['zScore',False] }\n",
    "\n",
    "def filter_Z_score (gene_panel, Z_threshold, p_threshold, mean_threshold, sort_by, only_significant, search_gene_specific, search_gene_global, \n",
    "                    search_genes_from_list, hpo_term_name, hpo_term_id, hpo_id_in_list, hpo_id_all_list, \n",
    "                    chrom, chr_start, chr_end, position_upload):\n",
    "\n",
    "    \n",
    "    global s_gene, df_filtered, panel, Z, df_position, position, uploaded_filename, genes, df_hpo\n",
    "    \n",
    "    s_gene = search_gene_specific\n",
    "    panel = gene_panel\n",
    "    Z = Z_threshold\n",
    "    position = position_upload\n",
    "    \n",
    "    if( 'stats' in globals() and 'current_sample_ID' in globals()):\n",
    "        Z_threshold = float(Z_threshold)\n",
    "        p_threshold = float(p_threshold)\n",
    "        mean_threshold = float(mean_threshold)\n",
    "                \n",
    "        df = stats\n",
    "\n",
    "        # distributionplot\n",
    "        try:\n",
    "            Zs = df['zScore'].values\n",
    "            hist_data = [Zs]\n",
    "            group_labels = ['distplot']\n",
    "\n",
    "            fig = ff.create_distplot(hist_data, group_labels, show_rug=False, bin_size=.2)\n",
    "            fig.update_layout(title= current_sample_ID, title_x = 0.4, height = 500, width = 600,\n",
    "                          showlegend = False)\n",
    "            fig.update_xaxes(title_text=\"Z-Score\", showgrid=False)\n",
    "            fig.update_yaxes(title_text=\"counts\", showgrid=False)\n",
    "            fig.add_vline( np.median(Zs), line_color=\"black\")\n",
    "            \n",
    "            fig.show()\n",
    "            \n",
    "        except:\n",
    "            pass\n",
    "        \n",
    "\n",
    "        # Not all? then select gene panel\n",
    "        if( gene_panel != 'all' ):\n",
    "            genes = gene_panel_with_genes[gene_panel]\n",
    "            df = df.loc[ df['gene'].isin(genes) ]\n",
    "        else:\n",
    "            genes = []\n",
    "            \n",
    "\n",
    "        # filter results on thresholds\n",
    "        df = df.loc[ df['zScore'].abs() >= Z_threshold]\n",
    "        df = df.loc[ df['pValue'] <= p_threshold]\n",
    "        df = df.loc[ df['meanCorrected'] >= mean_threshold]\n",
    "        \n",
    "        \n",
    "        # significant filtering\n",
    "        if only_significant == 'yes':\n",
    "            df = df.loc[ (df['aberrant'] == True) ]\n",
    "            \n",
    "\n",
    "        # filter on specific genes\n",
    "        if( search_gene_specific != '' ):\n",
    "            df = df.loc[ df['gene'] == search_gene_specific ]\n",
    "            \n",
    "        elif(search_gene_global != ''):\n",
    "            df = df.loc[ df['gene'].str.contains( search_gene_global,na=False, case=False ) ]\n",
    "      \n",
    "        elif(search_genes_from_list != ''):\n",
    "            genes = [ gene.strip(' ') for gene in search_genes_from_list.split('|') ]\n",
    "            df = df.loc[ df['gene'].isin(genes) ]\n",
    "      \n",
    "        else:\n",
    "            pass  \n",
    "       \n",
    "\n",
    "        # filtering on HPO terms\n",
    "        loc_hpo = './hpo/phenotype_to_genes.txt'\n",
    "        \n",
    "        # filter on HPO id\n",
    "        if hpo_term_id != \"\":\n",
    "            if hpo_term_name != \"\":\n",
    "                display(widgets.HTML(tags.h5(\"Fill in only HPO_term_id or HPO_term_name, not both\").render()))\n",
    "            elif hpo_id_in_list != \"\":\n",
    "                display(widgets.HTML(tags.h5(\"Fill in only HPO_term_id or gene of a HPO id in list, not both\").render()))\n",
    "            elif hpo_id_all_list != \"\":\n",
    "                display(widgets.HTML(tags.h5(\"Fill in only HPO_term_id or gene of all HPO ids from list, not both\").render()))\n",
    "            else:\n",
    "                if hpo_term_id.startswith('HP'):\n",
    "                    hpo_term_id = hpo_term_id\n",
    "                else:\n",
    "                    hpo_term_id = 'HP:' + str(hpo_term_id)\n",
    "                display(widgets.HTML(tags.h5(\"Filter on HPO_term_id: \"+hpo_term_id).render()))\n",
    "                df_hpo = pd.read_csv(loc_hpo, sep='\\t', header = 0,\n",
    "                             names = [\"HPO_term_id\",\"HPO_term_name\",\"entrez_gene_id\",\"entrez_gene_name\", \"Frequency_HPO\",\n",
    "                                      \"G-D_source\", \"disease_id\"])\n",
    "                df_hpo = df_hpo.loc[df_hpo[\"HPO_term_id\"] == hpo_term_id]\n",
    "                \n",
    "                hpo_genes = df_hpo['entrez_gene_name']\n",
    "                df = df.loc[ df['gene'].isin(hpo_genes) ]\n",
    "                # extra column for HPO term\n",
    "                df['Present_HPO_term'] = hpo_term_id\n",
    "        \n",
    "        #filter on HPO name\n",
    "        elif hpo_term_name != \"\":\n",
    "            display(widgets.HTML(tags.h5(\"Filter on HPO_term_name: \" + hpo_term_name).render()))\n",
    "            hpo_term_name = hpo_term_name.lower()\n",
    "            df_hpo = pd.read_csv(loc_hpo, sep='\\t', header = 0, \n",
    "                                 names = [\"HPO_term_id\",\"HPO_term_name\",\"entrez_gene_id\",\"entrez_gene_name\", \"Frequency_HPO\",\n",
    "                                          \"G-D_source\",\"disease_id\"])\n",
    "            df_hpo = df_hpo.loc[ df_hpo['HPO_term_name'].str.contains( hpo_term_name, na=False, case=False ) ]          \n",
    "            \n",
    "            # only necessary columns\n",
    "            df_hpo_name = df_hpo[['entrez_gene_name','HPO_term_id','HPO_term_name']]\n",
    "            \n",
    "            # filter on genes\n",
    "            hpo_genes = df_hpo['entrez_gene_name']\n",
    "            df = df.loc[ df['gene'].isin(hpo_genes) ]\n",
    "            # extra column for HPO term; merge df and df_hpo_name\n",
    "            df_merge = pd.merge(left=df, right=df_hpo_name, how='left', left_on='gene', right_on='entrez_gene_name')\n",
    "            df = df_merge.drop(['entrez_gene_name'], axis =1).rename(columns={'HPO_term_name':'Present_HPO_name', 'HPO_term_id':'Present_HPO_term'})\n",
    "            \n",
    "\n",
    "        #filter on HPO list (of/of)\n",
    "        elif hpo_id_in_list != \"\":\n",
    "            if hpo_id_all_list != \"\":\n",
    "                display(widgets.HTML(tags.h5(\"Fill in only 'gene of a HPO id in list:' or 'gene of all HPO ids from list:', not both\").render()))\n",
    "            else:\n",
    "                # filtering on HPO terms\n",
    "                hpo_ids = [ ids.strip(' ') for ids in hpo_id_in_list.split('|') ]\n",
    "                display(widgets.HTML(tags.h5(\"Filter on genes containing at least one HPO id from list: \"+ str(hpo_ids)).render()))\n",
    "\n",
    "                df_hpo = pd.read_csv(loc_hpo, sep='\\t', header = 0,\n",
    "                                     names = [\"HPO_term_id\",\"HPO_term_name\",\"entrez_gene_id\",\"entrez_gene_name\", \n",
    "                                              \"Frequency_HPO\",\"G-D_source\", \"disease_id\"])\n",
    "                # total genelist from hpo file\n",
    "                gene_list = set(df_hpo[\"entrez_gene_name\"])\n",
    "\n",
    "                # make empty dataframe with only headers of df\n",
    "                # list of columnnames df\n",
    "                list_names = list(df.columns.values.tolist())\n",
    "                # add column for HPO term\n",
    "                list_names.append('Present_HPO_term')\n",
    "                #make empty dataframe\n",
    "                df_empty = (pd.DataFrame(list_names).T)\n",
    "                df_empty = df_empty.rename(columns=df_empty.iloc[0]).drop(df_empty.index[0])\n",
    "\n",
    "                for ids in hpo_ids:\n",
    "                    # search genes for the hpo term\n",
    "                    df_hpo_gene = df_hpo.loc[df_hpo[\"HPO_term_id\"] == ids]\n",
    "                    # make list of the genes for the hpo term\n",
    "                    set_gene = set(df_hpo_gene['entrez_gene_name'])\n",
    "                    # intersection\n",
    "                    gene_list = list(set_gene.intersection(gene_list))\n",
    "                    # make dataframe of only genes from this hpo_id\n",
    "                    df_ids = df.loc[ df['gene'].isin(gene_list) ]\n",
    "                    # extra column for present HPO terms\n",
    "                    df_ids['Present_HPO_term'] = ids\n",
    "                    # append to df_empty\n",
    "                    df_empty = df_empty.append(df_ids, ignore_index=True)\n",
    "\n",
    "                df_empty['freq_HPO'] = df_empty.groupby(by='geneID')['geneID'].transform('count')\n",
    "                df = df_empty\n",
    "            \n",
    "        #filter on HPO list (en/en)\n",
    "        elif hpo_id_all_list != \"\":\n",
    "            hpo_ids = [ ids.strip(' ') for ids in hpo_id_all_list.split('|') ]\n",
    "            display(widgets.HTML(tags.h5(\"Filter on genes containing all HPO id from list: \"+ str(hpo_ids)).render()))\n",
    "            \n",
    "            df_hpo = pd.read_csv(loc_hpo, sep='\\t', header = 0,\n",
    "                                 names = [\"HPO_term_id\",\"HPO_term_name\",\"entrez_gene_id\",\"entrez_gene_name\", \"Frequency_HPO\",\n",
    "                                          \"G-D_source\", \"disease_id\"])\n",
    "            gene_list = set(df_hpo[\"entrez_gene_name\"])\n",
    "            \n",
    "            for ids in hpo_id_all_list.split('|'):\n",
    "                ids = ids.strip(' ')\n",
    "                df_hpo_gene = df_hpo.loc[df_hpo[\"HPO_term_id\"] == ids]\n",
    "                set_gene = set(df_hpo_gene['entrez_gene_name'])\n",
    "                #intersection\n",
    "                gene_list = set_gene.intersection(gene_list)\n",
    "\n",
    "            gene_all_hpo = list(gene_list)   \n",
    "            df = df.loc[ df['gene'].isin(gene_all_hpo) ]\n",
    "            # extra column for present HPO terms\n",
    "            df['Present_HPO_term'] = hpo_id_all_list.replace(\"|\",\";\")\n",
    "            \n",
    "        else:\n",
    "            pass\n",
    "            \n",
    "\n",
    "        # chrom filtering\n",
    "        if chrom != '':\n",
    "            if chrom.startswith('chr'):\n",
    "                chrom = str(chrom)\n",
    "            else:\n",
    "                chrom = 'chr' + str(chrom)            \n",
    "            if chr_start != '':\n",
    "                chr_start = float(chr_start)\n",
    "                if chr_end == '':\n",
    "                    raise ValueError(\"Fill in chr_end position; for whole chromosome no value needed\")\n",
    "                else:\n",
    "                    chr_end = float(chr_end)\n",
    "                    df = df.loc[ (df['chr'] == chrom) & (df['start'] >= chr_start) & (df['end'] <= chr_end)]\n",
    "            else:\n",
    "                if chr_end == '':\n",
    "                    df = df.loc[ (df['chr'] == chrom) ]\n",
    "                    display(widgets.HTML(tags.h5(\"Filtering on whole chromosome\").render()))\n",
    "                else:\n",
    "                    raise ValueError(\"Fill in chr_start position; for whole chromosome no value needed\")\n",
    "       \n",
    "\n",
    "        # filtering on ROH areas by uploadfile (tab-delimited; chr start end)\n",
    "        # upload chrom position file\n",
    "        uploaded_filename = \"NA\"\n",
    "        if len(position) != 0:\n",
    "            uploaded_filename = next(iter(position))\n",
    "            display(widgets.HTML(tags.h3(\"Upload file: \"+uploaded_filename).render()))\n",
    "            df_position = pd.read_csv(io.BytesIO(position[uploaded_filename]['content']), sep='\\t', header = None)\n",
    "            df_position.columns = ['search_chrom', 'search_chrom_start', 'search_chrom_end']\n",
    "            \n",
    "            # filter df\n",
    "            # make empty dataframe\n",
    "            # search per line of df_position make dataframe and append to empty df\n",
    "            df_empty = pd.DataFrame(columns= list(df.columns))\n",
    "            for i, j in df_position.iterrows():\n",
    "                chrom = str(j[0])\n",
    "                if chrom.startswith('chr'):\n",
    "                    chrom = chrom\n",
    "                else:\n",
    "                    chrom = 'chr' + chrom\n",
    "                start = j[1]\n",
    "                end = j[2]\n",
    "                df_new = df.loc[ (df['chr'] == chrom ) & (df['start'] >= start) & (df['end'] <= end) ]\n",
    "                df_empty = df_empty.append(df_new, ignore_index=True)\n",
    "            df = df_empty\n",
    "\n",
    "        else:\n",
    "            display(widgets.HTML(tags.h5(\"No Upload file present\").render()))\n",
    "\n",
    "            df_position = ''\n",
    "            \n",
    "        # add wider column for phenotype\n",
    "        df = df.assign(______________________________________Associated_Disease_Phenotype = df['phenotype'] )\n",
    "        # add column for genomic position\n",
    "        df = df.assign(genomic_position = df['chr']\n",
    "                       + \":\"\n",
    "                       + df['start'].values.astype(str)\n",
    "                       + \"-\"\n",
    "                       + df['end'].values.astype(str)\n",
    "                       )\n",
    "        \n",
    "        # new columns for FoldChange and absolute Zscore       \n",
    "        df = df.assign(FC = 2**df['l2fc'])\n",
    "        df = df.assign(zScore_abs = df['zScore'].abs() )\n",
    "        \n",
    "        # add column for link\n",
    "        df = df.assign(IGV_url = \"NA\")\n",
    "        \n",
    "        # delete not necessary columns\n",
    "        #df = df.drop(['link_bam'], axis=1)\n",
    "        df = df.drop(['theta','padj_rank','AberrantBySample','AberrantByGene','phenotype','sample_name','TIN_mean','link_bam'], axis=1)\n",
    "        \n",
    "        # sort\n",
    "        col, TF = ascending_sort_dict[sort_by]\n",
    "        df = df.sort_values(by= col, ascending = TF)\n",
    "\n",
    "        df_filtered = df\n",
    "        \n",
    "        display(HTML_with_style(df.iloc[0:50]))\n",
    "\n",
    "        \n",
    "# define gene_panels\n",
    "gene_panels = list( gene_panel_with_genes.keys() )\n",
    "gene_panels.append('all')\n",
    "gene_panels.sort(key=str.lower)\n",
    "\n",
    "# display\n",
    "display(widgets.HTML(tags.h5(\"For ROH filtering a tab-delimited *.txt file without headers can be \"\n",
    "                             \"uploaded (format: chr startpos endpos). For filtering on whole chromosome only fill in chrom.\").render()))\n",
    "\n",
    "\n",
    "uploader = FileUpload(accept='.txt', multiple=False)\n",
    "#display(uploader)\n",
    "\n",
    "# a upload box show then click it and upload the test file\n",
    "button = widgets.Button(description=\"Delete upload file\")\n",
    "display(button)\n",
    "\n",
    "def on_button_clicked(b):\n",
    "    uploader._counter = 0\n",
    "    uploader.value.clear()\n",
    "\n",
    "button.on_click(on_button_clicked)\n",
    "\n",
    "\n",
    "# interact manual\n",
    "interact_manual(filter_Z_score,\n",
    "                gene_panel = gene_panels,\n",
    "                Z_threshold = '3',\n",
    "                p_threshold = '0.01',\n",
    "                mean_threshold = '0',\n",
    "                sort_by = list(ascending_sort_dict.keys()),\n",
    "                only_significant = RadioButtons(\n",
    "                    options=['no','yes'],\n",
    "                    value='no', \n",
    "                    description='only significant?',\n",
    "                    disabled=False, style = style),\n",
    "                search_gene_specific = Text(\n",
    "                    value='', \n",
    "                    placeholder='specific gene', \n",
    "                    description='specific genename:', \n",
    "                    style = style, disabled=False),\n",
    "                search_gene_global = Text(\n",
    "                    value='', \n",
    "                    placeholder='part of gene', \n",
    "                    description='part of gene name:', \n",
    "                    style = style, disabled=False),\n",
    "                search_genes_from_list = Text(\n",
    "                    value='', \n",
    "                    placeholder='gene1|gene2', \n",
    "                    description='genes from list:', \n",
    "                    style = style, disabled=False),\n",
    "                hpo_term_name = Text(\n",
    "                    value='', \n",
    "                    placeholder='External ear malformation', \n",
    "                    description='HPO name:', \n",
    "                    style = style, disabled=False),\n",
    "                hpo_term_id = Text(\n",
    "                    value='', \n",
    "                    placeholder='HP:0012125', \n",
    "                    description='HPO id:', \n",
    "                    style = style, disabled=False),\n",
    "                hpo_id_in_list = Text(\n",
    "                    value='', \n",
    "                    placeholder='HP:0000001|HP:0000002', \n",
    "                    description='single HPO id in list:', \n",
    "                    style = style, disabled=False),\n",
    "                hpo_id_all_list = Text(\n",
    "                    value='', \n",
    "                    placeholder='HP:0000001|HP:0000002', \n",
    "                    description='all HPO ids from list:', \n",
    "                    style = style, disabled=False),\n",
    "                chrom = '',\n",
    "                chr_start = '',\n",
    "                chr_end = '',\n",
    "                position_upload = uploader\n",
    "               );\n"
   ]
  },
  {
   "cell_type": "markdown",
   "metadata": {},
   "source": [
    "### Download filtered list"
   ]
  },
  {
   "cell_type": "code",
   "execution_count": 33,
   "metadata": {},
   "outputs": [
    {
     "data": {
      "application/vnd.jupyter.widget-view+json": {
       "model_id": "b8558612aae044cf891b6d8cae2aff11",
       "version_major": 2,
       "version_minor": 0
      },
      "text/plain": [
       "VBox(children=(Button(description='Save table', style=ButtonStyle()), Output()))"
      ]
     },
     "execution_count": 33,
     "metadata": {},
     "output_type": "execute_result"
    }
   ],
   "source": [
    "# download filtered list\n",
    "button = widgets.Button(description='Save table')\n",
    "out = widgets.Output()\n",
    "\n",
    "def on_button_clicked(_):\n",
    "    check_password()\n",
    "    \n",
    "    # \"linking function with output\"\n",
    "    with out:\n",
    "        # what happens when we press the button\n",
    "        file = 'file://tmp/filtered_list.tsv'\n",
    "        if( 'df_filtered' in globals() ):\n",
    "            if( df_filtered.empty ):\n",
    "                print(\"Filtered list is empty\")\n",
    "                \n",
    "            else:\n",
    "                clear_output()\n",
    "                \n",
    "                title = \"RNAseq_filtering version: \"+version+\"; Tissue: \"+tissue +\"; Resultfile: \"+resultfile+\"; gene_panel: \"+panel+\"; Z-threshold: \"+Z+\"; ROH file: \"+uploaded_filename\n",
    "                index = df_filtered.index\n",
    "                index.name = title\n",
    "                \n",
    "                res = df_filtered.to_string()\n",
    "                #FILE\n",
    "                filename = 'res.tsv'\n",
    "                b64 = base64.b64encode(res.encode())\n",
    "                payload = b64.decode()\n",
    "\n",
    "                #BUTTONS\n",
    "                html_buttons = '''<html>\n",
    "                <head>\n",
    "                <meta name=\"viewport\" content=\"width=device-width, initial-scale=1\">\n",
    "                </head>\n",
    "                <body>\n",
    "                <a download=\"{filename}\" href=\"data:text/csv;base64,{payload}\" download>\n",
    "                <button class=\"p-Widget jupyter-widgets jupyter-button widget-button mod-warning\">Download File</button>\n",
    "                </a>\n",
    "                </body>\n",
    "                </html>\n",
    "                '''\n",
    "                html_button = html_buttons.format(payload=payload,filename=filename)\n",
    "                display(HTML(html_button))\n",
    "\n",
    "        else:\n",
    "            print(\"No filtered list available!\")\n",
    "\n",
    "# linking button and function together using a button's method\n",
    "button.on_click(on_button_clicked)\n",
    "# displaying button and its output together\n",
    "widgets.VBox([button,out])"
   ]
  },
  {
   "cell_type": "markdown",
   "metadata": {},
   "source": [
    "## Volcano plot"
   ]
  },
  {
   "cell_type": "code",
   "execution_count": 34,
   "metadata": {},
   "outputs": [
    {
     "data": {
      "application/vnd.jupyter.widget-view+json": {
       "model_id": "017614b8978849e2b6cf4cb237361950",
       "version_major": 2,
       "version_minor": 0
      },
      "text/plain": [
       "interactive(children=(Text(value='5', continuous_update=False, description='Z score threshold:', placeholder='…"
      ]
     },
     "metadata": {},
     "output_type": "display_data"
    }
   ],
   "source": [
    "def volcano_plot(Z_threshold, p_threshold, max_gene_annot, only_panelgenes ):\n",
    "    check_password()\n",
    "    \n",
    "    Z_threshold = float(Z_threshold)\n",
    "    p_threshold = float(p_threshold)\n",
    "    max_gene_annot = int(max_gene_annot)\n",
    "    \n",
    "    df = stats\n",
    "    \n",
    "    df_orange = df.loc[ df['zScore'].abs() >= Z_threshold]\n",
    "    df_orange = df_orange.loc[ df['pValue'] <= p_threshold]\n",
    "    df_orange = df_orange.iloc[0:max_gene_annot]\n",
    "    \n",
    "    if( 'genes' in globals() ):\n",
    "        if genes:\n",
    "            df_red = df.loc[df['gene'].isin(genes)]\n",
    "            df_red = df_red.loc[ df_red['zScore'].abs() >= Z_threshold]\n",
    "        else:\n",
    "            df_red = df.loc[ df['zScore'].abs() >= Z_threshold]\n",
    "            \n",
    "    df_red = df_red.loc[ df_red['pValue'] <= p_threshold]\n",
    "    df_red = df_red.iloc[0:max_gene_annot]\n",
    "    \n",
    "    #plotly    \n",
    "    fig = make_subplots(rows=1, cols=1)\n",
    "    # all data\n",
    "    fig.add_scatter(x = df['zScore'].values[0:10000], \n",
    "                    y = - np.log( df['pValue'] )[0:10000], \n",
    "                    mode=\"markers\",\n",
    "                    marker=dict(color=\"Blue\"),\n",
    "                    row=1, col=1)\n",
    "    \n",
    "        \n",
    "    # sample data all genes\n",
    "    if (only_panelgenes == \"no\"):\n",
    "        gene_names = df_orange['gene']\n",
    "        fig.add_scatter(x = df_orange['zScore'], \n",
    "                        y = - np.log( df_orange['pValue'] ), \n",
    "                        mode=\"markers+text\",\n",
    "                        marker=dict(color=\"orange\"),\n",
    "                        row=1, col=1, text = gene_names, textposition = 'top center', textfont_size = 10)\n",
    "    \n",
    "    # sample data panelgenes \n",
    "    gene_names = df_red['gene']\n",
    "    fig.add_scatter(x = df_red['zScore'], \n",
    "                    y = - np.log( df_red['pValue'] ), \n",
    "                    mode=\"markers+text\",\n",
    "                    marker=dict(color=\"red\"),\n",
    "                    row=1, col=1, text = \"<a href='gene-of-interest.ipynb?sample_id=\"+current_sample_ID+\"&specie=\"+tissue+\"&fragment=\"+fragments+\"&gene_id=\"+gene_names+\"' target='_blank'>\"+gene_names+\"</a>\", textposition = 'top center', textfont_size = 10)\n",
    " \n",
    "    fig.update_layout(title= current_sample_ID, title_x = 0.5, height = 750, width = 1000,\n",
    "                      showlegend = False)\n",
    "    fig.update_xaxes(title_text=\"Z-Score\", showgrid=False)\n",
    "    fig.update_yaxes(title_text=\"-log10(Pvalue)\", showgrid=False)    \n",
    "      \n",
    "    display(fig)\n",
    "    display(HTML(\"<input type='text' id='click_gene'>\"))\n",
    "\n",
    "\n",
    "interact_manual(volcano_plot,\n",
    "                Z_threshold = Text(\n",
    "                    value='3', \n",
    "                    placeholder='3', \n",
    "                    description='Z score threshold:', \n",
    "                    style = style, disabled=False),\n",
    "                p_threshold = Text(\n",
    "                    value='0.01', \n",
    "                    placeholder='0.01', \n",
    "                    description='p-value threshold:', \n",
    "                    style = style, disabled=False),\n",
    "                max_gene_annot = Text(\n",
    "                    value='100', \n",
    "                    placeholder='100', \n",
    "                    description='max number of annotated genes:', \n",
    "                    style = style, disabled=False),\n",
    "                only_panelgenes = RadioButtons(\n",
    "                    options=['yes','no'],\n",
    "                    value='yes', \n",
    "                    description='show only panelgenes?',\n",
    "                    disabled=False, style = style)\n",
    "           );"
   ]
  },
  {
   "cell_type": "markdown",
   "metadata": {},
   "source": [
    "## All fragments in Gene of Interest\n",
    "\n"
   ]
  },
  {
   "cell_type": "code",
   "execution_count": 38,
   "metadata": {},
   "outputs": [
    {
     "data": {
      "application/vnd.jupyter.widget-view+json": {
       "model_id": "8bddef6f999640f2a0f5c2e5ebcdd150",
       "version_major": 2,
       "version_minor": 0
      },
      "text/plain": [
       "interactive(children=(Text(value='', continuous_update=False, description='search gene:', placeholder='RALGAPA…"
      ]
     },
     "metadata": {},
     "output_type": "display_data"
    },
    {
     "data": {
      "text/plain": [
       "<function __main__.gene_of_interest_plot(search_gene)>"
      ]
     },
     "execution_count": 38,
     "metadata": {},
     "output_type": "execute_result"
    }
   ],
   "source": [
    "# show all fragments for a gene of interest (only for exons and introns)\n",
    "def gene_of_interest_plot(search_gene):\n",
    "    check_password()\n",
    "    \n",
    "    df = stats\n",
    "    \n",
    "    if search_gene.strip(' ') == '':\n",
    "        print(\"Submit gene name.\")\n",
    "        \n",
    "    else:      \n",
    "        # define chr.start position\n",
    "        df = df.assign(start1 = df['geneID'].apply(lambda x: x.split('_')[1]  ))        \n",
    "        #df = df.assign(exon_id = df['geneENSG'])        \n",
    "        df = df.loc[ df['gene'] == search_gene]\n",
    "\n",
    "        df_gene = pd.read_csv(path)\n",
    "        df_gene = df_gene.loc[ df_gene['gene'] == search_gene]\n",
    "        df_gene = df_gene.assign(start1 = df_gene['geneID'].apply(lambda x: x.split('_')[1]  ))        \n",
    "        df_gene = df_gene.assign(exon_id = df_gene['geneENSG'])        \n",
    "        df_gene = df_gene.assign(meanCorrected = df_gene['meanCorrected'])        \n",
    "        df_gene.sort_values('start', axis = 0, inplace=True, ascending =True)\n",
    "        df_sample = df_gene.loc[ df_gene['sampleID'] == current_sample_ID]\n",
    "        \n",
    "\n",
    "        if( df.empty):\n",
    "            print(\"Invalid gene name or gene not in data\")\n",
    "            \n",
    "        else:\n",
    "            df.sort_values('geneID', axis = 0, inplace=True, ascending =True)\n",
    "\n",
    "            # plot  \n",
    "            if re.search('intron',filename):\n",
    "                x = df['geneID']\n",
    "                y = df['zScore']\n",
    "               \n",
    "            else:\n",
    "                x = df_sample['start1'] +\"<br />\"+df_sample['exon_id']\n",
    "                y = df_sample['zScore']\n",
    "                a = df_gene['start1'] +\"<br />\"+df_gene['exon_id']\n",
    "                z = df_gene['zScore']\n",
    "                \n",
    "            fig = make_subplots(rows=1, cols=1)    \n",
    "#            fig = px.line(x = x, y = y)\n",
    "            fig.add_scatter(x=a, y = z, mode=\"markers\",\n",
    "                        marker=dict(color=\"darkgrey\"), row=1, col=1, name='other samples', text=df_gene['sampleID'])\n",
    "            \n",
    "            gene_exon = df_sample['gene']\n",
    "            print_ge = gene_exon\n",
    "            if fragments=='exons' : \n",
    "                gene_exon = df_sample['exon_id']\n",
    "                print_ge = \"E\"\n",
    "            fig.add_scatter(x=x, y = y, \n",
    "                        marker=dict(color=\"blue\"), row=1, col=1, name=current_sample_ID, mode=\"markers+text\",\n",
    "                        text = \"<a href='gene_of_interest.ipynb?sample_id=\"+current_sample_ID+\"&specie=\"+tissue+\"&fragment=exons&gene_id=\"+gene_exon+\"' target='_blank'>\"+print_ge+\"</a>\", textposition = 'top center', textfont_size = 10)\n",
    "\n",
    "#            fig = px.scatter(x = a, y = z)\n",
    "            fig.update_xaxes(title_text=\"chr_start_position\", showgrid=True)\n",
    "            fig.update_yaxes(title_text=\"Z score\", showgrid=False)\n",
    "            fig.add_hline(y=0, line_dash=\"dash\", line_color = 'grey')\n",
    "            fig.update_layout(title= search_gene, title_x = 0.5, height=550, \n",
    "                      showlegend = True)\n",
    "\n",
    "            fig.show()\n",
    "            \n",
    "    \n",
    "interact_manual(gene_of_interest_plot,\n",
    "               search_gene = Text(\n",
    "                    value='', \n",
    "                    placeholder='RALGAPA1', \n",
    "                    description='search gene:', \n",
    "                    style = style, disabled=False))"
   ]
  },
  {
   "cell_type": "markdown",
   "metadata": {},
   "source": [
    "## Ranking plot\n",
    "\n",
    "This may take a while (up to a few minutes).\n",
    "You can fill in a (unique) part of the geneID"
   ]
  },
  {
   "cell_type": "code",
   "execution_count": 39,
   "metadata": {
    "scrolled": true
   },
   "outputs": [
    {
     "data": {
      "application/vnd.jupyter.widget-view+json": {
       "model_id": "b1648cd41f4449929cfecfac04d571e0",
       "version_major": 2,
       "version_minor": 0
      },
      "text/plain": [
       "interactive(children=(Text(value='', continuous_update=False, description='gene_ID:', placeholder='chr17_79649…"
      ]
     },
     "metadata": {},
     "output_type": "display_data"
    },
    {
     "data": {
      "text/plain": [
       "<function __main__.ranking_plot(gene_ID)>"
      ]
     },
     "execution_count": 39,
     "metadata": {},
     "output_type": "execute_result"
    }
   ],
   "source": [
    "# compare zScore of a fragment: chosen sample vs all samples\n",
    "def ranking_plot(gene_ID):\n",
    "    check_password()\n",
    "    \n",
    "    global df_gene\n",
    "    \n",
    "    if gene_ID == '':\n",
    "        print('invalid gene_ID')\n",
    "    \n",
    "    else:\n",
    "        df_gene = pd.read_csv(path)\n",
    "        df_gene = df_gene.loc[df_gene['geneID'].str.contains(gene_ID, na = False, case = False)]\n",
    "        \n",
    "        df_gene.sort_values('normcounts', axis = 0, inplace=True, ascending =True)\n",
    "\n",
    "        df_red = df_gene.loc[ df_gene['sampleID'] == current_sample_ID]\n",
    "\n",
    "        clear_output()\n",
    "        \n",
    "        # plot\n",
    "        fig = make_subplots(rows=1, cols=1)\n",
    "        # all data\n",
    "        fig.add_scatter(x=df_gene['sampleID'], y = df_gene['normcounts'], mode=\"markers\",\n",
    "                        marker=dict(color=\"darkgrey\"),\n",
    "                        row=1, col=1, text=df_gene['sampleID']+\" \"+df_gene['geneENSG'])\n",
    "        # sample data       \n",
    "        fig.add_scatter(x = df_red['sampleID'], y = df_red['normcounts'],\n",
    "                    marker=dict(color=\"Red\"),\n",
    "                    row=1, col=1, text=df_red['sampleID']+\" \"+df_red['geneENSG'])\n",
    "\n",
    "        fig.update_traces(hoverinfo = 'text', selector = dict(type='scatter'), \n",
    "                           hoverlabel = dict(namelength = -1))\n",
    "        fig.update_layout(title= gene_ID, title_x = 0.3, height=800, width = 1200, \n",
    "                          showlegend = False, template = \"simple_white\")\n",
    "        fig.update_xaxes(title_text=\"sampleID\", showgrid=False, automargin=True) #font smaller\n",
    "        fig.update_yaxes(title_text=\"norm. counts\", showgrid=False)\n",
    "\n",
    "        fig.show()\n",
    "\n",
    "        # display table\n",
    "        display(HTML_with_style(df_gene[[\"sampleID\",\"normcounts\"]]))\n",
    "    \n",
    "\n",
    "interact_manual(ranking_plot,\n",
    "                gene_ID = Text(\n",
    "                    value='', \n",
    "                    placeholder='chr17_79649179_79650042_ARL16', \n",
    "                    description='gene_ID:', \n",
    "                    id='rank_gene_id',\n",
    "                    style = style, disabled=False)\n",
    "        )"
   ]
  },
  {
   "cell_type": "markdown",
   "metadata": {},
   "source": [
    "## Z-score on chromosome"
   ]
  },
  {
   "cell_type": "code",
   "execution_count": 40,
   "metadata": {
    "scrolled": true
   },
   "outputs": [
    {
     "data": {
      "application/vnd.jupyter.widget-view+json": {
       "model_id": "bf189f4b2fec467c9e1132556cc5a5c1",
       "version_major": 2,
       "version_minor": 0
      },
      "text/plain": [
       "interactive(children=(Text(value='100000', continuous_update=False, description='N_Z_scores'), Button(descript…"
      ]
     },
     "metadata": {},
     "output_type": "display_data"
    }
   ],
   "source": [
    "# global view of zScores (chosen sample) along the chromosomes\n",
    "def plot_Z_scores_on_chromosome2(N_Z_scores):\n",
    "    global df\n",
    "    check_password()\n",
    "\n",
    "    N = int(N_Z_scores)\n",
    "    df  = stats\n",
    "\n",
    "    if( N > df.shape[0]):\n",
    "        N = df.shape[0] -1\n",
    "\n",
    "    ind = random.sample( list(range(len(df))),N) \n",
    "    df = df.iloc[ ind,: ]\n",
    "\n",
    "    df = df.sort_values(by = ['chr', 'start'])\n",
    "\n",
    "    chromosomes = df['chr'].unique()\n",
    "\n",
    "    # color\n",
    "    color = px.colors.qualitative.Alphabet\n",
    "    chr_with_color = { c: color[i] for i,c in enumerate(chromosomes)}\n",
    "\n",
    "    gb = df.groupby('chr')\n",
    "    chromomes = [ 'chr'+str(i) for i in range(1,23)]\n",
    "    chromomes.extend(['chrX','chrY'])\n",
    "    chromomes.sort()\n",
    "\n",
    "    fig = make_subplots(rows=13, cols=2, subplot_titles= chromomes)\n",
    "\n",
    "    odd = 1\n",
    "    even = 1\n",
    "    for i, chromosome in enumerate(chromomes):\n",
    "        if( chromosome not in gb.groups):\n",
    "            continue\n",
    "        \n",
    "        df_chrom = gb.get_group(chromosome)\n",
    "        \n",
    "        # define color\n",
    "        c = chr_with_color[chromosome] \n",
    "\n",
    "        # define data\n",
    "        x = df_chrom['start'].sort_values()\n",
    "        y=df_chrom['zScore']\n",
    "        y_rol = y.rolling(window= int( len(df_chrom) *0.05),center=True).mean()\n",
    "        \n",
    "        # subplots\n",
    "        if i % 2:            \n",
    "            fig.add_scatter(x=x, y=y, mode=\"markers\",\n",
    "                                marker=dict(color=c),\n",
    "                                row=even, col=2, name=chromosome)\n",
    "            fig.add_scatter(x=x, y=y_rol, mode=\"lines\",\n",
    "                                line_color = 'black',\n",
    "                                row=even, col=2)\n",
    "            even += 1\n",
    "            \n",
    "        else:\n",
    "            fig.add_scatter(x=x, y=y, mode=\"markers\",\n",
    "                                marker=dict(color=c),\n",
    "                                row=odd, col=1, name=chromosome)\n",
    "            fig.add_scatter(x=x, y=y_rol, mode=\"lines\",\n",
    "                                line_color = 'black',\n",
    "                                row=odd, col=1)            \n",
    "            odd += 1\n",
    "        \n",
    "        \n",
    "        fig.update_layout(title= current_sample_ID, title_x = 0.5, width = 1400, height = 8000, \n",
    "                          showlegend = False)\n",
    "        fig.update_xaxes(title_text=\"Chromosomal position\", showgrid=False)\n",
    "        fig.update_yaxes(title_text=\"Z-Score\", showgrid=False)\n",
    "        fig.add_hline(y=0, line_dash=\"dash\", line_color = 'grey')\n",
    "        \n",
    "    \n",
    "    display(fig)\n",
    "\n",
    "\n",
    "interact_manual(plot_Z_scores_on_chromosome2, N_Z_scores = '100000' );\n",
    "        "
   ]
  },
  {
   "cell_type": "markdown",
   "metadata": {},
   "source": [
    "## Panels of filtered genes"
   ]
  },
  {
   "cell_type": "code",
   "execution_count": 41,
   "metadata": {},
   "outputs": [
    {
     "data": {
      "application/vnd.jupyter.widget-view+json": {
       "model_id": "4c9ea14bbe614d4e876e8bb05b9c58c3",
       "version_major": 2,
       "version_minor": 0
      },
      "text/plain": [
       "interactive(children=(Button(description='Run Interact', style=ButtonStyle()), Output()), _dom_classes=('widge…"
      ]
     },
     "metadata": {},
     "output_type": "display_data"
    },
    {
     "data": {
      "text/plain": [
       "<function __main__.panel_filtered_genes()>"
      ]
     },
     "execution_count": 41,
     "metadata": {},
     "output_type": "execute_result"
    }
   ],
   "source": [
    "# show all genepanels of filtered genes\n",
    "def panel_filtered_genes():\n",
    "    global df_panel\n",
    "    \n",
    "    goi = list(set(df_filtered['gene']))\n",
    "    display(widgets.HTML(tags.h5(\"Genepanels of all filtered genes: \"+ str(goi)).render()))\n",
    "\n",
    "    panels = gene_panel_with_genes\n",
    "    list_genes = goi\n",
    "    l_key = []\n",
    "    list_of_lists = []\n",
    "\n",
    "    for search_val in list_genes:\n",
    "        for key, val in panels.items():\n",
    "            if search_val in val:\n",
    "                list_of_lists.append([search_val,key])\n",
    "\n",
    "    df_panel = pd.DataFrame(list_of_lists, columns=[\"gene\",\"panels\"])\n",
    "\n",
    "    display(df_panel)\n",
    "    \n",
    "interact_manual(panel_filtered_genes)"
   ]
  },
  {
   "cell_type": "code",
   "execution_count": 20,
   "metadata": {},
   "outputs": [
    {
     "data": {
      "application/vnd.jupyter.widget-view+json": {
       "model_id": "de5a69c1f7b44f838cee751bc9a549ba",
       "version_major": 2,
       "version_minor": 0
      },
      "text/plain": [
       "VBox(children=(Button(description='Save table panels', style=ButtonStyle()), Output()))"
      ]
     },
     "execution_count": 20,
     "metadata": {},
     "output_type": "execute_result"
    }
   ],
   "source": [
    "# download\n",
    "button = widgets.Button(description='Save table panels')\n",
    "out1 = widgets.Output()\n",
    "\n",
    "def on_button_clicked1(_):\n",
    "    \n",
    "    # \"linking function with output\"\n",
    "    with out1:\n",
    "        # what happens when we press the button\n",
    "        file = 'file://tmp/panels_filtered_list.tsv'\n",
    "        if( 'df_panel' in globals() ):\n",
    "            if( df_panel.empty ):\n",
    "                print(\"Panels of filtered genelist is empty\")\n",
    "                \n",
    "            else:\n",
    "                clear_output()\n",
    "                \n",
    "                title = \"RNAseq_filtering version: \"+version+\"; Tissue: \"+tissue +\"; Resultfile: \"+resultfile+\"; gene_panel: \"+panel+\"; Z-threshold: \"+Z+\"; ROH file: \"+uploaded_filename\n",
    "                index = df_panel.index\n",
    "                index.name = title\n",
    "                \n",
    "                res1 = df_panel.to_string()\n",
    "                #FILE\n",
    "                filename = 'panels.tsv'\n",
    "                b64 = base64.b64encode(res1.encode())\n",
    "                payload = b64.decode()\n",
    "\n",
    "                #BUTTONS\n",
    "                html_buttons = '''<html>\n",
    "                <head>\n",
    "                <meta name=\"viewport\" content=\"width=device-width, initial-scale=1\">\n",
    "                </head>\n",
    "                <body>\n",
    "                <a download=\"{filename}\" href=\"data:text/csv;base64,{payload}\" download>\n",
    "                <button class=\"p-Widget jupyter-widgets jupyter-button widget-button mod-warning\">Download File</button>\n",
    "                </a>\n",
    "                </body>\n",
    "                </html>\n",
    "                '''\n",
    "                html_button = html_buttons.format(payload=payload,filename=filename)\n",
    "                display(HTML(html_button))\n",
    "\n",
    "        else:\n",
    "            print(\"No panellist available!\")\n",
    "\n",
    "# linking button and function together using a button's method\n",
    "button.on_click(on_button_clicked1)\n",
    "# displaying button and its output together\n",
    "widgets.VBox([button,out1])"
   ]
  }
 ],
 "metadata": {
  "kernelspec": {
   "display_name": "Python 3 (ipykernel)",
   "language": "python",
   "name": "python3"
  },
  "language_info": {
   "codemirror_mode": {
    "name": "ipython",
    "version": 3
   },
   "file_extension": ".py",
   "mimetype": "text/x-python",
   "name": "python",
   "nbconvert_exporter": "python",
   "pygments_lexer": "ipython3",
   "version": "3.7.8"
  },
  "widgets": {
   "application/vnd.jupyter.widget-state+json": {
    "state": {
     "12bd139103494a82a7916eea10061406": {
      "model_module": "@jupyter-widgets/base",
      "model_module_version": "1.2.0",
      "model_name": "LayoutModel",
      "state": {}
     },
     "2895f9e44e284b9baa3d8d1c838e9cad": {
      "model_module": "@jupyter-widgets/base",
      "model_module_version": "1.2.0",
      "model_name": "LayoutModel",
      "state": {}
     },
     "38188a9620a049e7adc7071247333165": {
      "model_module": "@jupyter-widgets/output",
      "model_module_version": "1.0.0",
      "model_name": "OutputModel",
      "state": {
       "layout": "IPY_MODEL_c6db81125d4146d69cd6e8674fb28d9d",
       "outputs": [
        {
         "data": {
          "text/html": "<div>\n<style scoped>\n    .dataframe tbody tr th:only-of-type {\n        vertical-align: middle;\n    }\n\n    .dataframe tbody tr th {\n        vertical-align: top;\n    }\n\n    .dataframe thead th {\n        text-align: right;\n    }\n</style>\n<table border=\"1\" class=\"dataframe\">\n  <thead>\n    <tr style=\"text-align: right;\">\n      <th></th>\n      <th>Gene_1</th>\n    </tr>\n    <tr>\n      <th>Unnamed: 0</th>\n      <th></th>\n    </tr>\n  </thead>\n  <tbody>\n    <tr>\n      <td>Sample_1</td>\n      <td>0.888673</td>\n    </tr>\n    <tr>\n      <td>Sample_9</td>\n      <td>0.883773</td>\n    </tr>\n    <tr>\n      <td>Sample_11</td>\n      <td>1.763011</td>\n    </tr>\n    <tr>\n      <td>Sample_13</td>\n      <td>1.467888</td>\n    </tr>\n    <tr>\n      <td>Sample_14</td>\n      <td>1.041974</td>\n    </tr>\n    <tr>\n      <td>Sample_17</td>\n      <td>0.814006</td>\n    </tr>\n    <tr>\n      <td>Sample_27</td>\n      <td>1.634723</td>\n    </tr>\n    <tr>\n      <td>Sample_29</td>\n      <td>2.004981</td>\n    </tr>\n    <tr>\n      <td>Sample_32</td>\n      <td>1.541715</td>\n    </tr>\n    <tr>\n      <td>Sample_35</td>\n      <td>1.277408</td>\n    </tr>\n    <tr>\n      <td>Sample_38</td>\n      <td>0.880445</td>\n    </tr>\n    <tr>\n      <td>Sample_41</td>\n      <td>2.428019</td>\n    </tr>\n    <tr>\n      <td>Sample_44</td>\n      <td>1.814918</td>\n    </tr>\n    <tr>\n      <td>Sample_47</td>\n      <td>1.082916</td>\n    </tr>\n    <tr>\n      <td>Sample_49</td>\n      <td>1.474107</td>\n    </tr>\n  </tbody>\n</table>\n</div>",
          "text/plain": "              Gene_1\nUnnamed: 0          \nSample_1    0.888673\nSample_9    0.883773\nSample_11   1.763011\nSample_13   1.467888\nSample_14   1.041974\nSample_17   0.814006\nSample_27   1.634723\nSample_29   2.004981\nSample_32   1.541715\nSample_35   1.277408\nSample_38   0.880445\nSample_41   2.428019\nSample_44   1.814918\nSample_47   1.082916\nSample_49   1.474107"
         },
         "metadata": {},
         "output_type": "display_data"
        }
       ]
      }
     },
     "52a8ad41171c45fb8ca60ef15d18c0a5": {
      "model_module": "@jupyter-widgets/controls",
      "model_module_version": "1.5.0",
      "model_name": "FloatSliderModel",
      "state": {
       "description": "Z",
       "layout": "IPY_MODEL_e1ceb795ddc545f094f4065449584512",
       "max": 10,
       "step": 0.1,
       "style": "IPY_MODEL_795d141faeec4164af7e824ba019b756",
       "value": 0.8
      }
     },
     "5d6baebcd17d4edeb4ccf80c1950623a": {
      "model_module": "@jupyter-widgets/controls",
      "model_module_version": "1.5.0",
      "model_name": "SliderStyleModel",
      "state": {
       "description_width": ""
      }
     },
     "5f8508ecd1474d468acd8a73db87e600": {
      "model_module": "@jupyter-widgets/base",
      "model_module_version": "1.2.0",
      "model_name": "LayoutModel",
      "state": {}
     },
     "6578cace8ec34026a6f27e02801c1f91": {
      "model_module": "@jupyter-widgets/base",
      "model_module_version": "1.2.0",
      "model_name": "LayoutModel",
      "state": {}
     },
     "6f03af1c3a9840c49ca453806523a22e": {
      "model_module": "@jupyter-widgets/controls",
      "model_module_version": "1.5.0",
      "model_name": "IntSliderModel",
      "state": {
       "description": "x",
       "layout": "IPY_MODEL_6578cace8ec34026a6f27e02801c1f91",
       "max": 30,
       "min": -10,
       "style": "IPY_MODEL_5d6baebcd17d4edeb4ccf80c1950623a",
       "value": 9
      }
     },
     "795d141faeec4164af7e824ba019b756": {
      "model_module": "@jupyter-widgets/controls",
      "model_module_version": "1.5.0",
      "model_name": "SliderStyleModel",
      "state": {
       "description_width": ""
      }
     },
     "909fe225722a43d98feb064375e6acc9": {
      "model_module": "@jupyter-widgets/controls",
      "model_module_version": "1.5.0",
      "model_name": "VBoxModel",
      "state": {
       "_dom_classes": [
        "widget-interact"
       ],
       "layout": "IPY_MODEL_d574d2cd20034548ab0396d30d56c8b5"
      }
     },
     "a1e8fa0c9e144de799642bc5b98007fc": {
      "model_module": "@jupyter-widgets/controls",
      "model_module_version": "1.5.0",
      "model_name": "VBoxModel",
      "state": {
       "_dom_classes": [
        "widget-interact"
       ],
       "children": [
        "IPY_MODEL_6f03af1c3a9840c49ca453806523a22e",
        "IPY_MODEL_f785c6860c9e40bf8c9f0a48a2229cf7"
       ],
       "layout": "IPY_MODEL_5f8508ecd1474d468acd8a73db87e600"
      }
     },
     "b755341dabe34220b7a4a3dd372abdf4": {
      "model_module": "@jupyter-widgets/controls",
      "model_module_version": "1.5.0",
      "model_name": "DescriptionStyleModel",
      "state": {
       "description_width": ""
      }
     },
     "bee17cd8a5a84f96b54076a0df8ac34a": {
      "model_module": "@jupyter-widgets/controls",
      "model_module_version": "1.5.0",
      "model_name": "DropdownModel",
      "state": {
       "_options_labels": [
        "Gene_0",
        "Gene_1",
        "Gene_2",
        "Gene_3",
        "Gene_4",
        "Gene_5",
        "Gene_6",
        "Gene_7",
        "Gene_8",
        "Gene_9"
       ],
       "description": "gene",
       "index": 1,
       "layout": "IPY_MODEL_2895f9e44e284b9baa3d8d1c838e9cad",
       "style": "IPY_MODEL_b755341dabe34220b7a4a3dd372abdf4"
      }
     },
     "c6db81125d4146d69cd6e8674fb28d9d": {
      "model_module": "@jupyter-widgets/base",
      "model_module_version": "1.2.0",
      "model_name": "LayoutModel",
      "state": {}
     },
     "d574d2cd20034548ab0396d30d56c8b5": {
      "model_module": "@jupyter-widgets/base",
      "model_module_version": "1.2.0",
      "model_name": "LayoutModel",
      "state": {}
     },
     "da3206f166964afc89466ac3a607c708": {
      "model_module": "@jupyter-widgets/controls",
      "model_module_version": "1.5.0",
      "model_name": "VBoxModel",
      "state": {
       "_dom_classes": [
        "widget-interact"
       ],
       "children": [
        "IPY_MODEL_bee17cd8a5a84f96b54076a0df8ac34a",
        "IPY_MODEL_52a8ad41171c45fb8ca60ef15d18c0a5",
        "IPY_MODEL_38188a9620a049e7adc7071247333165"
       ],
       "layout": "IPY_MODEL_12bd139103494a82a7916eea10061406"
      }
     },
     "e1ceb795ddc545f094f4065449584512": {
      "model_module": "@jupyter-widgets/base",
      "model_module_version": "1.2.0",
      "model_name": "LayoutModel",
      "state": {}
     },
     "f785c6860c9e40bf8c9f0a48a2229cf7": {
      "model_module": "@jupyter-widgets/output",
      "model_module_version": "1.0.0",
      "model_name": "OutputModel",
      "state": {
       "layout": "IPY_MODEL_fb5ba2f8bebe4b1e890c6fab571163f8",
       "outputs": [
        {
         "data": {
          "text/plain": "9"
         },
         "metadata": {},
         "output_type": "display_data"
        }
       ]
      }
     },
     "fb5ba2f8bebe4b1e890c6fab571163f8": {
      "model_module": "@jupyter-widgets/base",
      "model_module_version": "1.2.0",
      "model_name": "LayoutModel",
      "state": {}
     }
    },
    "version_major": 2,
    "version_minor": 0
   }
  }
 },
 "nbformat": 4,
 "nbformat_minor": 4
}
