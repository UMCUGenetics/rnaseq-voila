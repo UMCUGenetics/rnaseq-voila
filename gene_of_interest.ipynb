{
 "cells": [
  {
   "cell_type": "code",
   "execution_count": 10,
   "metadata": {},
   "outputs": [],
   "source": [
    "from __future__ import print_function\n",
    "from ipywidgets import interact, interactive, fixed, interact_manual, Dropdown, Button\n",
    "from ipywidgets import Output, HBox, Label, Text, RadioButtons, HTML, FileUpload\n",
    "\n",
    "import ipywidgets as widgets\n",
    "\n",
    "import warnings\n",
    "warnings.simplefilter(action='ignore', category=FutureWarning)\n",
    "\n",
    "import pandas as pd\n",
    "import numpy as np\n",
    "\n",
    "import os\n",
    "import re\n",
    "\n",
    "from IPython.display import clear_output\n",
    "from IPython.display import display, HTML\n",
    "from IPython.display import Image\n",
    "\n",
    "import random\n",
    "import base64\n",
    "\n",
    "from sklearn.decomposition import PCA\n",
    "import plotly.express as px\n",
    "from plotly.subplots import make_subplots\n",
    "import plotly.figure_factory as ff\n",
    "import plotly.graph_objects as go\n",
    "\n",
    "from dominate import tags\n",
    "\n",
    "import codecs\n",
    "import io\n",
    "\n",
    "from urllib.parse import urlparse\n",
    "from urllib.parse import parse_qs\n"
   ]
  },
  {
   "cell_type": "code",
   "execution_count": null,
   "metadata": {},
   "outputs": [],
   "source": [
    "def HTML_with_style(df, style=None, random_id=None):\n",
    "    from IPython.display import HTML\n",
    "    import numpy as np\n",
    "    import re\n",
    "\n",
    "    df_html = df.to_html()\n",
    "\n",
    "    if random_id is None:\n",
    "        random_id = 'id%d' % np.random.choice(np.arange(1000000))\n",
    "\n",
    "    if style is None:\n",
    "        style = \"\"\"\n",
    "        <style>\n",
    "            table#{random_id} {{color: black}}\n",
    "        </style>\n",
    "        \"\"\".format(random_id=random_id)\n",
    "    else:\n",
    "        new_style = []\n",
    "        s = re.sub(r'</?style>', '', style).strip()\n",
    "        for line in s.split('\\n'):\n",
    "                line = line.strip()\n",
    "                if not re.match(r'^table', line):\n",
    "                    line = re.sub(r'^', 'table ', line)\n",
    "                new_style.append(line)\n",
    "        new_style = ['<style>'] + new_style + ['</style>']\n",
    "\n",
    "        style = re.sub(r'table(#\\S+)?', 'table#%s' % random_id, '\\n'.join(new_style))\n",
    "\n",
    "    df_html = re.sub(r'<table', r'<table id=%s ' % random_id, df_html)\n",
    "\n",
    "    return HTML(style + df_html)"
   ]
  },
  {
   "cell_type": "code",
   "execution_count": 3,
   "metadata": {},
   "outputs": [],
   "source": [
    "def set_password(password):\n",
    "    global pwd, version\n",
    "    pwd = password\n",
    "    version = \"v02.2_010222\"\n",
    "    \n",
    "set_password('password')"
   ]
  },
  {
   "cell_type": "code",
   "execution_count": 4,
   "metadata": {},
   "outputs": [],
   "source": [
    "def check_password():\n",
    "    if( pwd == 'password'):\n",
    "        return True\n",
    "    else:\n",
    "        raise ValueError('Password incorrect')"
   ]
  },
  {
   "cell_type": "code",
   "execution_count": 16,
   "metadata": {},
   "outputs": [
    {
     "data": {
      "application/vnd.jupyter.widget-view+json": {
       "model_id": "880b25de42ed44f294b03b210538e2ed",
       "version_major": 2,
       "version_minor": 0
      },
      "text/plain": [
       "Url()"
      ]
     },
     "metadata": {},
     "output_type": "display_data"
    },
    {
     "name": "stdout",
     "output_type": "stream",
     "text": [
      "umcu_rnaseq_metadata.csv\n"
     ]
    },
    {
     "data": {
      "text/plain": [
       "<Response [200]>"
      ]
     },
     "execution_count": 16,
     "metadata": {},
     "output_type": "execute_result"
    }
   ],
   "source": [
    "GS_exp = 'umcu_rnaseq'\n",
    "\n",
    "url = os.environ['VOILA_REQUEST_URL']\n",
    "global current_sample_ID, specie, fragment, gene_ID\n",
    "current_sample_ID = parse_qs(urlparse(url).query)['sample_id'][0]\n",
    "tissue = parse_qs(urlparse(url).query)['specie'][0]\n",
    "fragments = parse_qs(urlparse(url).query)['fragment'][0]\n",
    "gene_ID = parse_qs(urlparse(url).query)['gene_id'][0]\n",
    "\n",
    "main_path = './outrider/'\n",
    "file = 'umcu_rnaseq_' + tissue + '_res_outrider_' + fragments + '_counts.tsv.gz'\n",
    "#        file = 'umcu_rnaseq_' + tissue + '_res_outrider_' + fragments + '_ref' + current_sample_ID +'.tsv.gz'\n",
    "path = main_path + file\n",
    "filename = path\n",
    "\n",
    "stats = pd.read_csv(path, compression='gzip')\n",
    "\n",
    "# print(path)\n",
    "# print(filename)"
   ]
  },
  {
   "cell_type": "markdown",
   "metadata": {},
   "source": [
    "Gene of interest plot"
   ]
  },
  {
   "cell_type": "code",
   "execution_count": null,
   "metadata": {},
   "outputs": [],
   "source": [
    "def gene_of_interest_plot(search_gene):\n",
    "    check_password()\n",
    "    \n",
    "    #stats = stats.loc[stats['sampleID'] == current_sample_ID]\n",
    "    df = stats\n",
    "    \n",
    "    if search_gene.strip(' ') == '':\n",
    "        print(\"Submit gene name.\")\n",
    "        \n",
    "    else:      \n",
    "        df = df.loc[stats['sampleID'] == current_sample_ID]\n",
    "        # define chr.start position\n",
    "        df = df.assign(start1 = df['geneID'].apply(lambda x: x.split('_')[1]  ))        \n",
    "#        df = df.assign(start1 = df['geneID'].apply(lambda x: x.split('.')[1]  ))        \n",
    "        #df = df.assign(exon_id = df['geneENSG'])        \n",
    "        df = df.loc[ df['gene'] == search_gene]\n",
    "\n",
    "        df_gene = pd.read_csv(path)\n",
    "        df_gene = df_gene.loc[ df_gene['gene'] == search_gene]\n",
    "        df_gene = df_gene.assign(start1 = df_gene['geneID'].apply(lambda x: x.split('_')[1]  ))        \n",
    "        df_gene = df_gene.assign(exon_id = df_gene['geneENSG'])        \n",
    "        df_gene.sort_values('start', axis = 0, inplace=True, ascending =True)\n",
    "        df_sample = df_gene.loc[ df_gene['sampleID'] == current_sample_ID]      \n",
    "\n",
    "        if( df.empty):\n",
    "            print(\"Invalid gene name or gene not in data\")\n",
    "            \n",
    "        else:\n",
    "            df.sort_values('geneID', axis = 0, inplace=True, ascending =True)\n",
    "\n",
    "            # plot  \n",
    "            if re.search('intron',filename):\n",
    "                x = df['geneID']\n",
    "                y = df['zScore']\n",
    "               \n",
    "            else:\n",
    "                x = df_sample['start1'] +\"<br />\"+df_sample['exon_id']\n",
    "                y = df_sample['zScore']\n",
    "                a = df_gene['start1'] +\"<br />\"+df_gene['exon_id']\n",
    "                z = df_gene['zScore']\n",
    "                \n",
    "            fig = make_subplots(rows=1, cols=1)    \n",
    "#            fig = px.line(x = x, y = y)\n",
    "            fig.add_scatter(x=a, y = z, mode=\"markers\",\n",
    "                        marker=dict(color=\"darkgrey\"), row=1, col=1, name='other samples', text=df_gene['sampleID'])\n",
    "\n",
    "            gene_exon = df_sample['gene']\n",
    "            print_ge = gene_exon\n",
    "            if fragments=='exons' : \n",
    "                gene_exon = df_sample['exon_id']\n",
    "                print_ge = \"E\"\n",
    "            fig.add_scatter(x=x, y = y, \n",
    "                        marker=dict(color=\"blue\"), row=1, col=1, name=current_sample_ID, mode=\"markers+text\",\n",
    "                        text = \"<a href='gene_of_interest.ipynb?sample_id=\"+current_sample_ID+\"&specie=\"+tissue+\"&fragment=exons&gene_id=\"+gene_exon+\"' target='_blank'>\"+print_ge+\"</a>\", textposition = 'top center', textfont_size = 10)\n",
    "\n",
    "#            fig = px.scatter(x = a, y = z)\n",
    "            fig.update_xaxes(title_text=\"chr_start_position\", showgrid=True)\n",
    "            fig.update_yaxes(title_text=\"Z score\", showgrid=False)\n",
    "            fig.add_hline(y=0, line_dash=\"dash\", line_color = 'grey')\n",
    "            fig.update_layout(title= search_gene, title_x = 0.5, height=550, \n",
    "                      showlegend = True)\n",
    "\n",
    "            fig.show()\n",
    "            \n",
    "    \n",
    "gene_of_interest_plot(gene_ID)"
   ]
  },
  {
   "cell_type": "markdown",
   "metadata": {},
   "source": [
    "## Ranking plot\n",
    "\n",
    "This may take a while (up to a few minutes).\n",
    "You can fill in a (unique) part of the geneID"
   ]
  },
  {
   "cell_type": "code",
   "execution_count": 39,
   "metadata": {
    "scrolled": true
   },
   "outputs": [
    {
     "data": {
      "application/vnd.jupyter.widget-view+json": {
       "model_id": "b1648cd41f4449929cfecfac04d571e0",
       "version_major": 2,
       "version_minor": 0
      },
      "text/plain": [
       "interactive(children=(Text(value='', continuous_update=False, description='gene_ID:', placeholder='chr17_79649…"
      ]
     },
     "metadata": {},
     "output_type": "display_data"
    },
    {
     "data": {
      "text/plain": [
       "<function __main__.ranking_plot(gene_ID)>"
      ]
     },
     "execution_count": 39,
     "metadata": {},
     "output_type": "execute_result"
    }
   ],
   "source": [
    "# compare zScore of a fragment: chosen sample vs all samples\n",
    "def ranking_plot(gene_ID):\n",
    "    check_password()\n",
    "    \n",
    "    global df_gene\n",
    "    \n",
    "    if gene_ID == '':\n",
    "        print('invalid gene_ID')\n",
    "    \n",
    "    else:\n",
    "#        main_path = './outrider/'\n",
    "#        file = 'umcu_rnaseq_' + tissue + '_res_outrider_' + fragments + '_counts.tsv.gz'\n",
    "#        file = 'umcu_rnaseq_' + tissue + '_res_outrider_' + fragments + '_ref' + current_sample_ID +'.tsv.gz'\n",
    "#        path = main_path + file\n",
    "\n",
    "        df_gene = pd.read_csv(path)\n",
    "        df_gene = stats.loc[df_gene['geneID'].str.contains(gene_ID, na = False, case = False)]\n",
    "        \n",
    "        df_gene.sort_values('normcounts', axis = 0, inplace=True, ascending =True)\n",
    "\n",
    "        df_red = df_gene.loc[ df_gene['sampleID'] == current_sample_ID]\n",
    "\n",
    "        clear_output()\n",
    "        \n",
    "        # plot\n",
    "        fig = make_subplots(rows=1, cols=1)\n",
    "        # all data\n",
    "        fig.add_scatter(x=df_gene['sampleID'], y = df_gene['normcounts'], mode=\"markers\",\n",
    "                        marker=dict(color=\"darkgrey\"),\n",
    "                        row=1, col=1, text=df_gene['sampleID'])\n",
    "        # sample data       \n",
    "        fig.add_scatter(x = df_red['sampleID'], y = df_red['normcounts'],\n",
    "                    marker=dict(color=\"Red\"),\n",
    "                    row=1, col=1, text=df_red['sampleID'])\n",
    "\n",
    "        fig.update_traces(hoverinfo = 'text', selector = dict(type='scatter'), \n",
    "                           hoverlabel = dict(namelength = -1))\n",
    "        fig.update_layout(title= gene_ID, title_x = 0.3, height=800, width = 1200, \n",
    "                          showlegend = False, template = \"simple_white\")\n",
    "        fig.update_xaxes(title_text=\"sampleID\", showgrid=False, automargin=True) #font smaller\n",
    "        fig.update_yaxes(title_text=\"norm. counts\", showgrid=False)\n",
    "\n",
    "        fig.show()\n",
    "\n",
    "        # display table\n",
    "        display(HTML_with_style(df_gene[[\"sampleID\",\"normcounts\"]]))\n",
    "    \n",
    "ranking_plot(gene_ID)"
   ]
  }
 ],
 "metadata": {
  "kernelspec": {
   "display_name": "Python 3 (ipykernel)",
   "language": "python",
   "name": "python3"
  },
  "language_info": {
   "codemirror_mode": {
    "name": "ipython",
    "version": 3
   },
   "file_extension": ".py",
   "mimetype": "text/x-python",
   "name": "python",
   "nbconvert_exporter": "python",
   "pygments_lexer": "ipython3",
   "version": "3.12.1"
  },
  "widgets": {
   "application/vnd.jupyter.widget-state+json": {
    "state": {
     "12bd139103494a82a7916eea10061406": {
      "model_module": "@jupyter-widgets/base",
      "model_module_version": "1.2.0",
      "model_name": "LayoutModel",
      "state": {}
     },
     "2895f9e44e284b9baa3d8d1c838e9cad": {
      "model_module": "@jupyter-widgets/base",
      "model_module_version": "1.2.0",
      "model_name": "LayoutModel",
      "state": {}
     },
     "38188a9620a049e7adc7071247333165": {
      "model_module": "@jupyter-widgets/output",
      "model_module_version": "1.0.0",
      "model_name": "OutputModel",
      "state": {
       "layout": "IPY_MODEL_c6db81125d4146d69cd6e8674fb28d9d",
       "outputs": [
        {
         "data": {
          "text/html": "<div>\n<style scoped>\n    .dataframe tbody tr th:only-of-type {\n        vertical-align: middle;\n    }\n\n    .dataframe tbody tr th {\n        vertical-align: top;\n    }\n\n    .dataframe thead th {\n        text-align: right;\n    }\n</style>\n<table border=\"1\" class=\"dataframe\">\n  <thead>\n    <tr style=\"text-align: right;\">\n      <th></th>\n      <th>Gene_1</th>\n    </tr>\n    <tr>\n      <th>Unnamed: 0</th>\n      <th></th>\n    </tr>\n  </thead>\n  <tbody>\n    <tr>\n      <td>Sample_1</td>\n      <td>0.888673</td>\n    </tr>\n    <tr>\n      <td>Sample_9</td>\n      <td>0.883773</td>\n    </tr>\n    <tr>\n      <td>Sample_11</td>\n      <td>1.763011</td>\n    </tr>\n    <tr>\n      <td>Sample_13</td>\n      <td>1.467888</td>\n    </tr>\n    <tr>\n      <td>Sample_14</td>\n      <td>1.041974</td>\n    </tr>\n    <tr>\n      <td>Sample_17</td>\n      <td>0.814006</td>\n    </tr>\n    <tr>\n      <td>Sample_27</td>\n      <td>1.634723</td>\n    </tr>\n    <tr>\n      <td>Sample_29</td>\n      <td>2.004981</td>\n    </tr>\n    <tr>\n      <td>Sample_32</td>\n      <td>1.541715</td>\n    </tr>\n    <tr>\n      <td>Sample_35</td>\n      <td>1.277408</td>\n    </tr>\n    <tr>\n      <td>Sample_38</td>\n      <td>0.880445</td>\n    </tr>\n    <tr>\n      <td>Sample_41</td>\n      <td>2.428019</td>\n    </tr>\n    <tr>\n      <td>Sample_44</td>\n      <td>1.814918</td>\n    </tr>\n    <tr>\n      <td>Sample_47</td>\n      <td>1.082916</td>\n    </tr>\n    <tr>\n      <td>Sample_49</td>\n      <td>1.474107</td>\n    </tr>\n  </tbody>\n</table>\n</div>",
          "text/plain": "              Gene_1\nUnnamed: 0          \nSample_1    0.888673\nSample_9    0.883773\nSample_11   1.763011\nSample_13   1.467888\nSample_14   1.041974\nSample_17   0.814006\nSample_27   1.634723\nSample_29   2.004981\nSample_32   1.541715\nSample_35   1.277408\nSample_38   0.880445\nSample_41   2.428019\nSample_44   1.814918\nSample_47   1.082916\nSample_49   1.474107"
         },
         "metadata": {},
         "output_type": "display_data"
        }
       ]
      }
     },
     "52a8ad41171c45fb8ca60ef15d18c0a5": {
      "model_module": "@jupyter-widgets/controls",
      "model_module_version": "1.5.0",
      "model_name": "FloatSliderModel",
      "state": {
       "description": "Z",
       "layout": "IPY_MODEL_e1ceb795ddc545f094f4065449584512",
       "max": 10,
       "step": 0.1,
       "style": "IPY_MODEL_795d141faeec4164af7e824ba019b756",
       "value": 0.8
      }
     },
     "5d6baebcd17d4edeb4ccf80c1950623a": {
      "model_module": "@jupyter-widgets/controls",
      "model_module_version": "1.5.0",
      "model_name": "SliderStyleModel",
      "state": {
       "description_width": ""
      }
     },
     "5f8508ecd1474d468acd8a73db87e600": {
      "model_module": "@jupyter-widgets/base",
      "model_module_version": "1.2.0",
      "model_name": "LayoutModel",
      "state": {}
     },
     "6578cace8ec34026a6f27e02801c1f91": {
      "model_module": "@jupyter-widgets/base",
      "model_module_version": "1.2.0",
      "model_name": "LayoutModel",
      "state": {}
     },
     "6f03af1c3a9840c49ca453806523a22e": {
      "model_module": "@jupyter-widgets/controls",
      "model_module_version": "1.5.0",
      "model_name": "IntSliderModel",
      "state": {
       "description": "x",
       "layout": "IPY_MODEL_6578cace8ec34026a6f27e02801c1f91",
       "max": 30,
       "min": -10,
       "style": "IPY_MODEL_5d6baebcd17d4edeb4ccf80c1950623a",
       "value": 9
      }
     },
     "795d141faeec4164af7e824ba019b756": {
      "model_module": "@jupyter-widgets/controls",
      "model_module_version": "1.5.0",
      "model_name": "SliderStyleModel",
      "state": {
       "description_width": ""
      }
     },
     "909fe225722a43d98feb064375e6acc9": {
      "model_module": "@jupyter-widgets/controls",
      "model_module_version": "1.5.0",
      "model_name": "VBoxModel",
      "state": {
       "_dom_classes": [
        "widget-interact"
       ],
       "layout": "IPY_MODEL_d574d2cd20034548ab0396d30d56c8b5"
      }
     },
     "a1e8fa0c9e144de799642bc5b98007fc": {
      "model_module": "@jupyter-widgets/controls",
      "model_module_version": "1.5.0",
      "model_name": "VBoxModel",
      "state": {
       "_dom_classes": [
        "widget-interact"
       ],
       "children": [
        "IPY_MODEL_6f03af1c3a9840c49ca453806523a22e",
        "IPY_MODEL_f785c6860c9e40bf8c9f0a48a2229cf7"
       ],
       "layout": "IPY_MODEL_5f8508ecd1474d468acd8a73db87e600"
      }
     },
     "b755341dabe34220b7a4a3dd372abdf4": {
      "model_module": "@jupyter-widgets/controls",
      "model_module_version": "1.5.0",
      "model_name": "DescriptionStyleModel",
      "state": {
       "description_width": ""
      }
     },
     "bee17cd8a5a84f96b54076a0df8ac34a": {
      "model_module": "@jupyter-widgets/controls",
      "model_module_version": "1.5.0",
      "model_name": "DropdownModel",
      "state": {
       "_options_labels": [
        "Gene_0",
        "Gene_1",
        "Gene_2",
        "Gene_3",
        "Gene_4",
        "Gene_5",
        "Gene_6",
        "Gene_7",
        "Gene_8",
        "Gene_9"
       ],
       "description": "gene",
       "index": 1,
       "layout": "IPY_MODEL_2895f9e44e284b9baa3d8d1c838e9cad",
       "style": "IPY_MODEL_b755341dabe34220b7a4a3dd372abdf4"
      }
     },
     "c6db81125d4146d69cd6e8674fb28d9d": {
      "model_module": "@jupyter-widgets/base",
      "model_module_version": "1.2.0",
      "model_name": "LayoutModel",
      "state": {}
     },
     "d574d2cd20034548ab0396d30d56c8b5": {
      "model_module": "@jupyter-widgets/base",
      "model_module_version": "1.2.0",
      "model_name": "LayoutModel",
      "state": {}
     },
     "da3206f166964afc89466ac3a607c708": {
      "model_module": "@jupyter-widgets/controls",
      "model_module_version": "1.5.0",
      "model_name": "VBoxModel",
      "state": {
       "_dom_classes": [
        "widget-interact"
       ],
       "children": [
        "IPY_MODEL_bee17cd8a5a84f96b54076a0df8ac34a",
        "IPY_MODEL_52a8ad41171c45fb8ca60ef15d18c0a5",
        "IPY_MODEL_38188a9620a049e7adc7071247333165"
       ],
       "layout": "IPY_MODEL_12bd139103494a82a7916eea10061406"
      }
     },
     "e1ceb795ddc545f094f4065449584512": {
      "model_module": "@jupyter-widgets/base",
      "model_module_version": "1.2.0",
      "model_name": "LayoutModel",
      "state": {}
     },
     "f785c6860c9e40bf8c9f0a48a2229cf7": {
      "model_module": "@jupyter-widgets/output",
      "model_module_version": "1.0.0",
      "model_name": "OutputModel",
      "state": {
       "layout": "IPY_MODEL_fb5ba2f8bebe4b1e890c6fab571163f8",
       "outputs": [
        {
         "data": {
          "text/plain": "9"
         },
         "metadata": {},
         "output_type": "display_data"
        }
       ]
      }
     },
     "fb5ba2f8bebe4b1e890c6fab571163f8": {
      "model_module": "@jupyter-widgets/base",
      "model_module_version": "1.2.0",
      "model_name": "LayoutModel",
      "state": {}
     }
    },
    "version_major": 2,
    "version_minor": 0
   }
  }
 },
 "nbformat": 4,
 "nbformat_minor": 4
}
